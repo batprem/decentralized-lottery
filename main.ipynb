{
 "cells": [
  {
   "cell_type": "markdown",
   "id": "0e903d6f",
   "metadata": {},
   "source": [
    "# Global import"
   ]
  },
  {
   "cell_type": "code",
   "execution_count": 39,
   "id": "f130e773",
   "metadata": {},
   "outputs": [],
   "source": [
    "import brownie\n",
    "from brownie import project\n",
    "from brownie import config, network\n",
    "from scripts.helpful_script import get_account, get_contract"
   ]
  },
  {
   "cell_type": "markdown",
   "id": "39df8c67",
   "metadata": {},
   "source": [
    "## Load project"
   ]
  },
  {
   "cell_type": "code",
   "execution_count": 2,
   "id": "4b8ca1dd-ee75-48b3-a343-6ba7400de085",
   "metadata": {},
   "outputs": [],
   "source": [
    "p = project.load('.', name=\"Lottery\")"
   ]
  },
  {
   "cell_type": "code",
   "execution_count": 3,
   "id": "ddc67f3a",
   "metadata": {},
   "outputs": [],
   "source": [
    "p.load_config()"
   ]
  },
  {
   "cell_type": "markdown",
   "id": "9484bdee",
   "metadata": {},
   "source": [
    "## Dump project attributes into brownie"
   ]
  },
  {
   "cell_type": "code",
   "execution_count": 30,
   "id": "6223b18b",
   "metadata": {},
   "outputs": [
    {
     "name": "stdout",
     "output_type": "stream",
     "text": [
      "VRFCoordinatorMock\n",
      "MockV3Aggregator\n",
      "LinkToken\n",
      "Lottery\n",
      "SafeMathChainlink\n",
      "BasicToken\n",
      "StandardToken\n",
      "VRFRequestIDBase\n"
     ]
    }
   ],
   "source": [
    "for key, value in p.__dict__.items():\n",
    "    if isinstance(value, brownie.network.contract.ContractContainer):\n",
    "        print(key)\n",
    "        brownie.__dict__[key] = p.__dict__[key]"
   ]
  },
  {
   "cell_type": "markdown",
   "id": "ac249f60",
   "metadata": {},
   "source": [
    "# Local import"
   ]
  },
  {
   "cell_type": "code",
   "execution_count": 32,
   "id": "d13446a8",
   "metadata": {},
   "outputs": [],
   "source": [
    "from scripts import helpful_script"
   ]
  },
  {
   "cell_type": "markdown",
   "id": "0a59e026",
   "metadata": {},
   "source": [
    "# Establisn connection"
   ]
  },
  {
   "cell_type": "code",
   "execution_count": 34,
   "id": "8fd3b2ba",
   "metadata": {},
   "outputs": [
    {
     "ename": "ConnectionError",
     "evalue": "Already connected to network 'development'",
     "output_type": "error",
     "traceback": [
      "\u001b[0;31m---------------------------------------------------------------------------\u001b[0m",
      "\u001b[0;31mConnectionError\u001b[0m                           Traceback (most recent call last)",
      "\u001b[0;32m/var/folders/hk/rw64djnx2cz613ykv0bjxpr80000gn/T/ipykernel_8453/655071666.py\u001b[0m in \u001b[0;36m<module>\u001b[0;34m\u001b[0m\n\u001b[0;32m----> 1\u001b[0;31m \u001b[0mnetwork\u001b[0m\u001b[0;34m.\u001b[0m\u001b[0mconnect\u001b[0m\u001b[0;34m(\u001b[0m\u001b[0;34m'development'\u001b[0m\u001b[0;34m)\u001b[0m\u001b[0;34m\u001b[0m\u001b[0;34m\u001b[0m\u001b[0m\n\u001b[0m",
      "\u001b[0;32m~/miniconda3/envs/nft/lib/python3.8/site-packages/brownie/network/main.py\u001b[0m in \u001b[0;36mconnect\u001b[0;34m(network, launch_rpc)\u001b[0m\n\u001b[1;32m     27\u001b[0m     Network information is retrieved from brownie-config.json\"\"\"\n\u001b[1;32m     28\u001b[0m     \u001b[0;32mif\u001b[0m \u001b[0mis_connected\u001b[0m\u001b[0;34m(\u001b[0m\u001b[0;34m)\u001b[0m\u001b[0;34m:\u001b[0m\u001b[0;34m\u001b[0m\u001b[0;34m\u001b[0m\u001b[0m\n\u001b[0;32m---> 29\u001b[0;31m         \u001b[0;32mraise\u001b[0m \u001b[0mConnectionError\u001b[0m\u001b[0;34m(\u001b[0m\u001b[0;34mf\"Already connected to network '{CONFIG.active_network['id']}'\"\u001b[0m\u001b[0;34m)\u001b[0m\u001b[0;34m\u001b[0m\u001b[0;34m\u001b[0m\u001b[0m\n\u001b[0m\u001b[1;32m     30\u001b[0m     \u001b[0;32mtry\u001b[0m\u001b[0;34m:\u001b[0m\u001b[0;34m\u001b[0m\u001b[0;34m\u001b[0m\u001b[0m\n\u001b[1;32m     31\u001b[0m         \u001b[0mactive\u001b[0m \u001b[0;34m=\u001b[0m \u001b[0mCONFIG\u001b[0m\u001b[0;34m.\u001b[0m\u001b[0mset_active_network\u001b[0m\u001b[0;34m(\u001b[0m\u001b[0mnetwork\u001b[0m\u001b[0;34m)\u001b[0m\u001b[0;34m\u001b[0m\u001b[0;34m\u001b[0m\u001b[0m\n",
      "\u001b[0;31mConnectionError\u001b[0m: Already connected to network 'development'"
     ]
    }
   ],
   "source": [
    "network.connect('development')"
   ]
  },
  {
   "cell_type": "code",
   "execution_count": 35,
   "id": "046e0b92",
   "metadata": {},
   "outputs": [],
   "source": [
    "Lottery = p.Lottery"
   ]
  },
  {
   "cell_type": "code",
   "execution_count": 36,
   "id": "b0ac0f1c",
   "metadata": {},
   "outputs": [
    {
     "name": "stdout",
     "output_type": "stream",
     "text": [
      "The active network is development\n",
      "Deploying Mock...\n",
      "Transaction sent: \u001b[0;1;34m0xbca2b2200ec485669b46efb87da443de51e8d46e128a3c39e3fc46387113b034\u001b[0;m\n",
      "  Gas price: \u001b[0;1;34m0.0\u001b[0;m gwei   Gas limit: \u001b[0;1;34m12000000\u001b[0;m   Nonce: \u001b[0;1;34m0\u001b[0;m\n",
      "  MockV3Aggregator.constructor confirmed   Block: \u001b[0;1;34m1\u001b[0;m   Gas used: \u001b[0;1;34m430707\u001b[0;m (\u001b[0;1;34m3.59%\u001b[0;m)\n",
      "  MockV3Aggregator deployed at: \u001b[0;1;34m0x3194cBDC3dbcd3E11a07892e7bA5c3394048Cc87\u001b[0;m\n",
      "\n",
      "Transaction sent: \u001b[0;1;34m0xb3583f40dc67bd5dc0b83a096c9a08726196e0da23053cf344167b47050b63b5\u001b[0;m\n",
      "  Gas price: \u001b[0;1;34m0.0\u001b[0;m gwei   Gas limit: \u001b[0;1;34m12000000\u001b[0;m   Nonce: \u001b[0;1;34m1\u001b[0;m\n",
      "  LinkToken.constructor confirmed   Block: \u001b[0;1;34m2\u001b[0;m   Gas used: \u001b[0;1;34m669136\u001b[0;m (\u001b[0;1;34m5.58%\u001b[0;m)\n",
      "  LinkToken deployed at: \u001b[0;1;34m0x602C71e4DAC47a042Ee7f46E0aee17F94A3bA0B6\u001b[0;m\n",
      "\n",
      "Transaction sent: \u001b[0;1;34m0x1b74b287f739666b206c8e19bcf1acce1914e7371894a2fe4f81a8282351443a\u001b[0;m\n",
      "  Gas price: \u001b[0;1;34m0.0\u001b[0;m gwei   Gas limit: \u001b[0;1;34m12000000\u001b[0;m   Nonce: \u001b[0;1;34m2\u001b[0;m\n",
      "  VRFCoordinatorMock.constructor confirmed   Block: \u001b[0;1;34m3\u001b[0;m   Gas used: \u001b[0;1;34m276395\u001b[0;m (\u001b[0;1;34m2.30%\u001b[0;m)\n",
      "  VRFCoordinatorMock deployed at: \u001b[0;1;34m0xE7eD6747FaC5360f88a2EFC03E00d25789F69291\u001b[0;m\n",
      "\n",
      "Mocks deployed\n",
      "Transaction sent: \u001b[0;1;34m0xe3ec11e5abf62044f4a07c2ed72230210d38582db93ff2dcc194b5729bc0382d\u001b[0;m\n",
      "  Gas price: \u001b[0;1;34m0.0\u001b[0;m gwei   Gas limit: \u001b[0;1;34m12000000\u001b[0;m   Nonce: \u001b[0;1;34m3\u001b[0;m\n",
      "  Lottery.constructor confirmed   Block: \u001b[0;1;34m4\u001b[0;m   Gas used: \u001b[0;1;34m883739\u001b[0;m (\u001b[0;1;34m7.36%\u001b[0;m)\n",
      "  Lottery deployed at: \u001b[0;1;34m0x6951b5Bd815043E3F842c1b026b0Fa888Cc2DD85\u001b[0;m\n",
      "\n",
      "0x6951b5Bd815043E3F842c1b026b0Fa888Cc2DD85\n"
     ]
    }
   ],
   "source": [
    "\n",
    "account = get_account()\n",
    "fee = config[\"networks\"][network.show_active()][\"fee\"]\n",
    "fee = eval(fee)\n",
    "lottery = Lottery.deploy(\n",
    "    get_contract(\"eth_usd_price_feed\").address,\n",
    "    get_contract(\"vrf_coordinator\").address,\n",
    "    get_contract(\"link_token\").address,\n",
    "    fee,\n",
    "    config[\"networks\"][network.show_active()][\"keyhash\"],\n",
    "    {\"from\": account},\n",
    "    publish_source=config[\"networks\"][network.show_active()].get(\"verify\", False),\n",
    ")\n",
    "print(lottery)"
   ]
  }
 ],
 "metadata": {
  "kernelspec": {
   "display_name": "Python 3 (ipykernel)",
   "language": "python",
   "name": "python3"
  },
  "language_info": {
   "codemirror_mode": {
    "name": "ipython",
    "version": 3
   },
   "file_extension": ".py",
   "mimetype": "text/x-python",
   "name": "python",
   "nbconvert_exporter": "python",
   "pygments_lexer": "ipython3",
   "version": "3.8.12"
  },
  "toc": {
   "base_numbering": 1,
   "nav_menu": {},
   "number_sections": true,
   "sideBar": true,
   "skip_h1_title": false,
   "title_cell": "Table of Contents",
   "title_sidebar": "Contents",
   "toc_cell": false,
   "toc_position": {},
   "toc_section_display": true,
   "toc_window_display": false
  },
  "varInspector": {
   "cols": {
    "lenName": 16,
    "lenType": 16,
    "lenVar": 40
   },
   "kernels_config": {
    "python": {
     "delete_cmd_postfix": "",
     "delete_cmd_prefix": "del ",
     "library": "var_list.py",
     "varRefreshCmd": "print(var_dic_list())"
    },
    "r": {
     "delete_cmd_postfix": ") ",
     "delete_cmd_prefix": "rm(",
     "library": "var_list.r",
     "varRefreshCmd": "cat(var_dic_list()) "
    }
   },
   "types_to_exclude": [
    "module",
    "function",
    "builtin_function_or_method",
    "instance",
    "_Feature"
   ],
   "window_display": false
  }
 },
 "nbformat": 4,
 "nbformat_minor": 5
}
