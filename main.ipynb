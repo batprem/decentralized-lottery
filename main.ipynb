{
 "cells": [
  {
   "cell_type": "markdown",
   "id": "0e903d6f",
   "metadata": {},
   "source": [
    "# Global import"
   ]
  },
  {
   "cell_type": "code",
   "execution_count": 1,
   "id": "f130e773",
   "metadata": {},
   "outputs": [],
   "source": [
    "import brownie\n",
    "from brownie import project\n",
    "from brownie import config, network"
   ]
  },
  {
   "cell_type": "markdown",
   "id": "39df8c67",
   "metadata": {},
   "source": [
    "## Load project"
   ]
  },
  {
   "cell_type": "code",
   "execution_count": 2,
   "id": "4b8ca1dd-ee75-48b3-a343-6ba7400de085",
   "metadata": {},
   "outputs": [],
   "source": [
    "p = project.load('.', name=\"Lottery\")"
   ]
  },
  {
   "cell_type": "code",
   "execution_count": 3,
   "id": "ddc67f3a",
   "metadata": {},
   "outputs": [],
   "source": [
    "p.load_config()"
   ]
  },
  {
   "cell_type": "markdown",
   "id": "9484bdee",
   "metadata": {},
   "source": [
    "## Dump project attributes into brownie"
   ]
  },
  {
   "cell_type": "code",
   "execution_count": 4,
   "id": "6223b18b",
   "metadata": {},
   "outputs": [
    {
     "name": "stdout",
     "output_type": "stream",
     "text": [
      "_path\n",
      "_envvars\n",
      "_structure\n",
      "_build_path\n",
      "_name\n",
      "_active\n",
      "_sources\n",
      "_build\n",
      "_compiler_config\n",
      "interface\n",
      "_containers\n",
      "VRFCoordinatorMock\n",
      "MockV3Aggregator\n",
      "TestFunctions\n",
      "LinkToken\n",
      "Lottery\n",
      "SafeMathChainlink\n",
      "BasicToken\n",
      "StandardToken\n",
      "VRFRequestIDBase\n",
      "__all__\n",
      "_namespaces\n"
     ]
    }
   ],
   "source": [
    "for key, value in p.__dict__.items():\n",
    "    print(key)\n",
    "    brownie.__dict__[key] = p.__dict__[key]"
   ]
  },
  {
   "cell_type": "markdown",
   "id": "ac249f60",
   "metadata": {},
   "source": [
    "# Local import"
   ]
  },
  {
   "cell_type": "code",
   "execution_count": 10,
   "id": "d13446a8",
   "metadata": {},
   "outputs": [],
   "source": [
    "from scripts.helpful_script import (\n",
    "    get_account,\n",
    "    get_contract\n",
    ")\n",
    "from scripts.deploy_lottery import (\n",
    "    deploy_lottery,\n",
    "    start_lottery,\n",
    "    enter_lottery,\n",
    "    enter_lottery\n",
    ")"
   ]
  },
  {
   "cell_type": "markdown",
   "id": "0a59e026",
   "metadata": {},
   "source": [
    "# Establisn connection"
   ]
  },
  {
   "cell_type": "code",
   "execution_count": 6,
   "id": "8fd3b2ba",
   "metadata": {},
   "outputs": [],
   "source": [
    "network.connect('rinkeby')"
   ]
  },
  {
   "cell_type": "markdown",
   "id": "a70ebf48",
   "metadata": {},
   "source": [
    "# Load contracts"
   ]
  },
  {
   "cell_type": "code",
   "execution_count": 7,
   "id": "046e0b92",
   "metadata": {},
   "outputs": [],
   "source": [
    "Lottery = p.Lottery"
   ]
  },
  {
   "cell_type": "code",
   "execution_count": 15,
   "id": "c262bf5c",
   "metadata": {},
   "outputs": [
    {
     "data": {
      "text/plain": [
       "[{'inputs': [{'internalType': 'address',\n",
       "    'name': '_priceFeedAddress',\n",
       "    'type': 'address'},\n",
       "   {'internalType': 'address', 'name': '_vrfCoordinator', 'type': 'address'},\n",
       "   {'internalType': 'address', 'name': '_link', 'type': 'address'},\n",
       "   {'internalType': 'uint256', 'name': '_fee', 'type': 'uint256'},\n",
       "   {'internalType': 'bytes32', 'name': '_keyhash', 'type': 'bytes32'}],\n",
       "  'stateMutability': 'nonpayable',\n",
       "  'type': 'constructor',\n",
       "  'name': 'constructor'},\n",
       " {'anonymous': False,\n",
       "  'inputs': [{'indexed': True,\n",
       "    'internalType': 'address',\n",
       "    'name': 'previousOwner',\n",
       "    'type': 'address'},\n",
       "   {'indexed': True,\n",
       "    'internalType': 'address',\n",
       "    'name': 'newOwner',\n",
       "    'type': 'address'}],\n",
       "  'name': 'OwnershipTransferred',\n",
       "  'type': 'event'},\n",
       " {'anonymous': False,\n",
       "  'inputs': [{'indexed': False,\n",
       "    'internalType': 'bytes32',\n",
       "    'name': 'requestId',\n",
       "    'type': 'bytes32'}],\n",
       "  'name': 'RequestedRandomness',\n",
       "  'type': 'event'},\n",
       " {'inputs': [],\n",
       "  'name': 'endLottery',\n",
       "  'outputs': [],\n",
       "  'stateMutability': 'nonpayable',\n",
       "  'type': 'function'},\n",
       " {'inputs': [],\n",
       "  'name': 'enter',\n",
       "  'outputs': [],\n",
       "  'stateMutability': 'payable',\n",
       "  'type': 'function'},\n",
       " {'inputs': [],\n",
       "  'name': 'fee',\n",
       "  'outputs': [{'internalType': 'uint256', 'name': '', 'type': 'uint256'}],\n",
       "  'stateMutability': 'view',\n",
       "  'type': 'function'},\n",
       " {'inputs': [],\n",
       "  'name': 'getEntranceFee',\n",
       "  'outputs': [{'internalType': 'uint256', 'name': '', 'type': 'uint256'}],\n",
       "  'stateMutability': 'view',\n",
       "  'type': 'function'},\n",
       " {'inputs': [],\n",
       "  'name': 'keyhash',\n",
       "  'outputs': [{'internalType': 'bytes32', 'name': '', 'type': 'bytes32'}],\n",
       "  'stateMutability': 'view',\n",
       "  'type': 'function'},\n",
       " {'inputs': [],\n",
       "  'name': 'lottery_state',\n",
       "  'outputs': [{'internalType': 'enum Lottery.LOTTERY_STATE',\n",
       "    'name': '',\n",
       "    'type': 'uint8'}],\n",
       "  'stateMutability': 'view',\n",
       "  'type': 'function'},\n",
       " {'inputs': [],\n",
       "  'name': 'owner',\n",
       "  'outputs': [{'internalType': 'address', 'name': '', 'type': 'address'}],\n",
       "  'stateMutability': 'view',\n",
       "  'type': 'function'},\n",
       " {'inputs': [{'internalType': 'uint256', 'name': '', 'type': 'uint256'}],\n",
       "  'name': 'players',\n",
       "  'outputs': [{'internalType': 'address payable',\n",
       "    'name': '',\n",
       "    'type': 'address'}],\n",
       "  'stateMutability': 'view',\n",
       "  'type': 'function'},\n",
       " {'inputs': [],\n",
       "  'name': 'randomness',\n",
       "  'outputs': [{'internalType': 'uint256', 'name': '', 'type': 'uint256'}],\n",
       "  'stateMutability': 'view',\n",
       "  'type': 'function'},\n",
       " {'inputs': [{'internalType': 'bytes32',\n",
       "    'name': 'requestId',\n",
       "    'type': 'bytes32'},\n",
       "   {'internalType': 'uint256', 'name': 'randomness', 'type': 'uint256'}],\n",
       "  'name': 'rawFulfillRandomness',\n",
       "  'outputs': [],\n",
       "  'stateMutability': 'nonpayable',\n",
       "  'type': 'function'},\n",
       " {'inputs': [],\n",
       "  'name': 'recentWinner',\n",
       "  'outputs': [{'internalType': 'address payable',\n",
       "    'name': '',\n",
       "    'type': 'address'}],\n",
       "  'stateMutability': 'view',\n",
       "  'type': 'function'},\n",
       " {'inputs': [],\n",
       "  'name': 'renounceOwnership',\n",
       "  'outputs': [],\n",
       "  'stateMutability': 'nonpayable',\n",
       "  'type': 'function'},\n",
       " {'inputs': [],\n",
       "  'name': 'startLottery',\n",
       "  'outputs': [],\n",
       "  'stateMutability': 'nonpayable',\n",
       "  'type': 'function'},\n",
       " {'inputs': [{'internalType': 'address',\n",
       "    'name': 'newOwner',\n",
       "    'type': 'address'}],\n",
       "  'name': 'transferOwnership',\n",
       "  'outputs': [],\n",
       "  'stateMutability': 'nonpayable',\n",
       "  'type': 'function'},\n",
       " {'inputs': [],\n",
       "  'name': 'usdEntryFee',\n",
       "  'outputs': [{'internalType': 'uint256', 'name': '', 'type': 'uint256'}],\n",
       "  'stateMutability': 'view',\n",
       "  'type': 'function'}]"
      ]
     },
     "execution_count": 15,
     "metadata": {},
     "output_type": "execute_result"
    }
   ],
   "source": [
    "p.Lottery.abi"
   ]
  },
  {
   "cell_type": "code",
   "execution_count": 11,
   "id": "b0ac0f1c",
   "metadata": {},
   "outputs": [
    {
     "name": "stdout",
     "output_type": "stream",
     "text": [
      "Transaction sent: \u001b[0;1;34m0xf7aafb01e9824a3dfb94638a0afc923263a11f23ad100dc128af36169d9b940e\u001b[0;m\n",
      "  Gas price: \u001b[0;1;34m1.000000009\u001b[0;m gwei   Gas limit: \u001b[0;1;34m995891\u001b[0;m   Nonce: \u001b[0;1;34m189\u001b[0;m\n",
      "  Lottery.constructor confirmed   Block: \u001b[0;1;34m9879878\u001b[0;m   Gas used: \u001b[0;1;34m905356\u001b[0;m (\u001b[0;1;34m90.91%\u001b[0;m)\n",
      "  Lottery deployed at: \u001b[0;1;34m0xacD2F3820D285935EA3fA70E74E4Cf488D40FC71\u001b[0;m\n",
      "\n",
      "Waiting for https://api-rinkeby.etherscan.io/api to process contract...\n",
      "Verification submitted successfully. Waiting for result...\n",
      "Verification pending...\n",
      "Verification complete. Result: \u001b[0;1;32mPass - Verified\u001b[0;m\n",
      "0xacD2F3820D285935EA3fA70E74E4Cf488D40FC71\n"
     ]
    }
   ],
   "source": [
    "\n",
    "account = get_account()\n",
    "fee = config[\"networks\"][network.show_active()][\"fee\"]\n",
    "fee = eval(fee)\n",
    "lottery = Lottery.deploy(\n",
    "    get_contract(\"eth_usd_price_feed\").address,\n",
    "    get_contract(\"vrf_coordinator\").address, # VRF \n",
    "    get_contract(\"link_token\").address, # Link\n",
    "    fee,\n",
    "    config[\"networks\"][network.show_active()][\"keyhash\"],\n",
    "    {\"from\": account},\n",
    "    publish_source=config[\"networks\"][network.show_active()].get(\"verify\", False),\n",
    ")\n",
    "print(lottery)"
   ]
  },
  {
   "cell_type": "code",
   "execution_count": 13,
   "id": "99d619d8",
   "metadata": {},
   "outputs": [],
   "source": [
    "eth_usd_price_feed = get_contract(\"eth_usd_price_feed\")"
   ]
  },
  {
   "cell_type": "code",
   "execution_count": 14,
   "id": "a4af3e44",
   "metadata": {},
   "outputs": [
    {
     "data": {
      "text/plain": [
       "<bound method Contract.from_abi of <class 'brownie.network.contract.Contract'>>"
      ]
     },
     "execution_count": 14,
     "metadata": {},
     "output_type": "execute_result"
    }
   ],
   "source": [
    "eth_usd_price_feed.from_abi"
   ]
  }
 ],
 "metadata": {
  "kernelspec": {
   "display_name": "Python 3 (ipykernel)",
   "language": "python",
   "name": "python3"
  },
  "language_info": {
   "codemirror_mode": {
    "name": "ipython",
    "version": 3
   },
   "file_extension": ".py",
   "mimetype": "text/x-python",
   "name": "python",
   "nbconvert_exporter": "python",
   "pygments_lexer": "ipython3",
   "version": "3.8.12"
  },
  "toc": {
   "base_numbering": 1,
   "nav_menu": {},
   "number_sections": true,
   "sideBar": true,
   "skip_h1_title": false,
   "title_cell": "Table of Contents",
   "title_sidebar": "Contents",
   "toc_cell": false,
   "toc_position": {},
   "toc_section_display": true,
   "toc_window_display": false
  },
  "varInspector": {
   "cols": {
    "lenName": 16,
    "lenType": 16,
    "lenVar": 40
   },
   "kernels_config": {
    "python": {
     "delete_cmd_postfix": "",
     "delete_cmd_prefix": "del ",
     "library": "var_list.py",
     "varRefreshCmd": "print(var_dic_list())"
    },
    "r": {
     "delete_cmd_postfix": ") ",
     "delete_cmd_prefix": "rm(",
     "library": "var_list.r",
     "varRefreshCmd": "cat(var_dic_list()) "
    }
   },
   "types_to_exclude": [
    "module",
    "function",
    "builtin_function_or_method",
    "instance",
    "_Feature"
   ],
   "window_display": false
  }
 },
 "nbformat": 4,
 "nbformat_minor": 5
}
